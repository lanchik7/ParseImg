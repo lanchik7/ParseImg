{
  "nbformat": 4,
  "nbformat_minor": 0,
  "metadata": {
    "colab": {
      "provenance": [],
      "authorship_tag": "ABX9TyM+OzmWdi8faMbSG0Rdy5+5",
      "include_colab_link": true
    },
    "kernelspec": {
      "name": "python3",
      "display_name": "Python 3"
    },
    "language_info": {
      "name": "python"
    }
  },
  "cells": [
    {
      "cell_type": "markdown",
      "metadata": {
        "id": "view-in-github",
        "colab_type": "text"
      },
      "source": [
        "<a href=\"https://colab.research.google.com/github/lanchik7/ParseImg/blob/dev/%D0%9B%D0%B0%D0%B1%D0%B01_%D0%90%D0%B1%D0%B0%D0%B7%D0%BE%D0%B2_%D0%91%D0%98%D0%92%D0%A2_20_4.ipynb\" target=\"_parent\"><img src=\"https://colab.research.google.com/assets/colab-badge.svg\" alt=\"Open In Colab\"/></a>"
      ]
    },
    {
      "cell_type": "markdown",
      "source": [
        "Лабораторная работа №1\n",
        "\n",
        "ФИО: Абазов Аслан Казбекович\n",
        "\n",
        "Группа: БИВТ-20-4\n"
      ],
      "metadata": {
        "id": "g3la-RioDgLd"
      }
    },
    {
      "cell_type": "markdown",
      "source": [
        "1. Базовые типы переменных"
      ],
      "metadata": {
        "id": "Jrq4d7wNI_jQ"
      }
    },
    {
      "cell_type": "code",
      "source": [
        "int_variable = 15  # int\n",
        "assert isinstance(int_variable, int)\n",
        "\n",
        "float_variable = 12.3  # float\n",
        "assert isinstance(float_variable, float)\n",
        "\n",
        "string_variable = 'Salam!'  # string\n",
        "assert isinstance(string_variable, str)\n",
        "\n",
        "bool_variable = True  # bool\n",
        "assert isinstance(bool_variable, bool)"
      ],
      "metadata": {
        "id": "SNn2tl1sDrQl"
      },
      "execution_count": 33,
      "outputs": []
    },
    {
      "cell_type": "code",
      "source": [
        "list_variable = [1, 1, 2 , 3, 5, 8]  # list\n",
        "assert isinstance(list_variable, list)\n",
        "\n",
        "tuple_variable = (2, 4, 6, 8)  # tuple\n",
        "assert isinstance(tuple_variable, tuple)\n",
        "\n",
        "set_variable = {1, 2, 3}  # set\n",
        "assert isinstance(set_variable, set)\n",
        "\n",
        "dict_variable = {a: a ** 2 for a in range(5)}  # dict\n",
        "assert isinstance(dict_variable, dict)\n",
        "\n",
        "print(list_variable, \" \", tuple_variable, \" \", set_variable, \" \", dict_variable)"
      ],
      "metadata": {
        "colab": {
          "base_uri": "https://localhost:8080/"
        },
        "id": "Tx9RdVPnFOgZ",
        "outputId": "d60fcbb6-c9c8-40a4-9d10-7c2b32909e4b"
      },
      "execution_count": 32,
      "outputs": [
        {
          "output_type": "stream",
          "name": "stdout",
          "text": [
            "[1, 1, 2, 3, 5, 8]   (2, 4, 6, 8)   {1, 2, 3}   {0: 0, 1: 1, 2: 4, 3: 9, 4: 16}\n"
          ]
        }
      ]
    },
    {
      "cell_type": "markdown",
      "source": [
        "2. Различные функции"
      ],
      "metadata": {
        "id": "c6Fk5BGrJBrf"
      }
    },
    {
      "cell_type": "code",
      "source": [
        "def difference_of_two_numbers(first, second):\n",
        "    return first - second\n",
        "\n",
        "assert difference_of_two_numbers(2, 1) == 1\n",
        "assert difference_of_two_numbers(4, 1) == 3\n",
        "assert difference_of_two_numbers(10, 0) == 10\n",
        "assert difference_of_two_numbers(-5, -6) == 1"
      ],
      "metadata": {
        "id": "Y5D01FrQIzmz"
      },
      "execution_count": 31,
      "outputs": []
    },
    {
      "cell_type": "code",
      "source": [
        "def condition_function(input_number):\n",
        "    if(input_number <= 0):\n",
        "      input_number = input_number * 2\n",
        "    elif(input_number > 0 and input_number <= 10):\n",
        "      input_number = input_number * 3\n",
        "    else:\n",
        "      input_number = input_number / 10\n",
        "    return input_number\n",
        "    \"\"\"\n",
        "    Если входное число меньше либо равно 0, то умножить его на 2.\n",
        "    В противном случае, если число больше 0, но меньше или равно 10, умножить на 3.\n",
        "    Во всех прочих случаях поделить на 10.\n",
        "    \"\"\"\n",
        "    # TODO: напиши меня\n",
        "    #pass\n",
        "\n",
        "\n",
        "assert condition_function(0) == 0\n",
        "assert condition_function(-1) == -2\n",
        "assert condition_function(1) == 3\n",
        "assert condition_function(10) == 30\n",
        "assert condition_function(11) == 1.1\n",
        "assert condition_function(20) == 2"
      ],
      "metadata": {
        "id": "WWljCY4lJghp"
      },
      "execution_count": 1,
      "outputs": []
    },
    {
      "cell_type": "code",
      "source": [
        "def calculator(number_1, operation, number_2):\n",
        "  if (operation == \"+\"):\n",
        "    return number_1 + number_2\n",
        "  elif(operation == \"-\"):\n",
        "    return number_1 - number_2\n",
        "  elif(operation == \"*\"):\n",
        "    return number_1 * number_2\n",
        "  elif(operation == \"/\"):\n",
        "    return number_1 / number_2\n",
        "\n",
        "\n",
        "assert calculator(1, \"+\", 2) == 3\n",
        "assert calculator(3, \"-\", 1) == 2\n",
        "assert calculator(4, \"*\", 3) == 12\n",
        "assert calculator(2, \"/\", 2) == 1"
      ],
      "metadata": {
        "id": "TPc-AoEUSwF-"
      },
      "execution_count": 8,
      "outputs": []
    },
    {
      "cell_type": "code",
      "source": [
        "def number_of_unique_elements(input_list):\n",
        "    return len(set(input_list))\n",
        "\n",
        "assert number_of_unique_elements([1, 2, 3]) == 3\n",
        "assert number_of_unique_elements([1] * 93) == 1\n",
        "assert number_of_unique_elements(list(range(1000))) == 1000"
      ],
      "metadata": {
        "id": "Cu3wM3z2V0lO"
      },
      "execution_count": 10,
      "outputs": []
    },
    {
      "cell_type": "code",
      "source": [
        "def counter(input_list):\n",
        "  dic = {}\n",
        "  for i in input_list:\n",
        "    if i in dic:\n",
        "      dic[i] += 1\n",
        "    else:\n",
        "      dic[i] = 1\n",
        "  return dic\n",
        "\n",
        "assert counter([1, 1, 1, 2, 3]) == {1: 3, 2: 1, 3: 1}\n",
        "assert counter([1] * 1000) == {1: 1000}\n",
        "assert counter([1, 3, 5] * 100) == {1: 100, 3: 100, 5: 100}"
      ],
      "metadata": {
        "id": "mkmQIQy6WdSn"
      },
      "execution_count": 30,
      "outputs": []
    },
    {
      "cell_type": "code",
      "source": [
        "def multiply_nums(input_string):\n",
        "  multi = 1\n",
        "  list_of_strings = input_string.split(',')\n",
        "  new_list = [int(x) for x in list_of_strings]\n",
        "  for i in range(len(new_list)):\n",
        "    multi *= new_list[i]\n",
        "  return multi\n",
        "\n",
        "\n",
        "assert multiply_nums(\"2, 3\") == 6\n",
        "assert multiply_nums(\"1, 1, 1, 1, 1, 1, 1\") == 1\n",
        "assert multiply_nums(\"345, 4576, 794, 325, 0\") == 0"
      ],
      "metadata": {
        "id": "2MgkXWffkXlo"
      },
      "execution_count": 27,
      "outputs": []
    },
    {
      "cell_type": "markdown",
      "source": [
        "Реализовать функцию: y = sin(x) * cos(x)"
      ],
      "metadata": {
        "id": "_FuKo1cj9LxX"
      }
    },
    {
      "cell_type": "code",
      "source": [
        "import math\n",
        "\n",
        "def custom_function(x):\n",
        "  return math.sin(x) * math.cos(x)\n",
        "\n",
        "assert round(custom_function(1), 3) == 0.455\n",
        "assert round(custom_function(1.5), 3) == 0.071\n",
        "assert round(custom_function(2), 3) == -0.378\n",
        "assert custom_function(0) == 0"
      ],
      "metadata": {
        "id": "877m9k6wt33l"
      },
      "execution_count": 29,
      "outputs": []
    },
    {
      "cell_type": "markdown",
      "source": [
        "Реализовать функцию: \n",
        "\n",
        "\n",
        "\n",
        "\n",
        "![image.png](data:image/png;base64,iVBORw0KGgoAAAANSUhEUgAAANsAAABKCAYAAAAyuSGmAAAAAXNSR0IArs4c6QAAAARnQU1BAACxjwv8YQUAAAAJcEhZcwAAEnQAABJ0Ad5mH3gAABD0SURBVHhe7Z1/bBNnmse/d/3DVaszoreOqBQLkriLLr72itkmcoQOsxWEsiQpS+rT1kk4QmBhkx7mfCWub5vgveKagksKSbOQNFfyQ7uYCC6mx9rc9mzukC2EcDiKs2LjRlBHAtkSKF4VZaSt5t4ZTxIngdSTeExI3o80mbzvvLbH4/nO8zzv+8w7f8ESQKFQJOcvhTWFQpEYKjYKJUNQsVEoGYKKjULJEFRsFEqGoGKjUDIEFRuFkiGo2CiUDEHFRqFkCCo2CiVDULFRKBmCio1CyRBUbBRKhqBio1AyxKK9xSZywQbHuSAGFOtQtnQU8iVxeD0yVLVboFsqNEoLDCL9ISBPA6VcqJrnxO8EEX5GDU22TKhZgDwII3B3CbT5CqEiBe6FEIgrof3h7H7IRWrZgnD1ZOHHumcRvhGF6mcmVO4qw+r+dniDcaFNOmAQbN2B9y4DS54SoXHIyfkX2GtASz8j1MwHuGNZgQrDBhTm5qKiJyzUz4JhD8w/a0aM+6JiWCZH7EQJjOcjQoVIOMu2+BhlR0airPv9HHbzh352hKu6fZo15GxnT9/mG6SF0f89yBb8tI29+WehYr4Q8bLN+7ez29/+ezZHt5WtP+ZmB/mDkESojd2aU8+67wvlcUbZm58fZA9+3sw2bN/ONrzfwB58fze7/kNv4jhKzDdntrM5OQXskauJsni+YU9vL2AbPFGhLJL7XrahYDPbFhLKIliklk0GuTyCm92AWqMGZ3QiV93wryqCWhEH812i1Zxggmi396HsHT3Uzwh1EhD/YxiibPE9D4z1IWjMHejouYShriqMdu/BhrcdCD4U2nDkV8K0ywvH50FiU5IY6IIjvhGmbXqsfs4HN1RQMh6MxJjJ7b4P4saFHwj/pwyD4bCPrNfhb/MSNWKJnbfBjDpUvi7Sqo2xVIeafQrYjrsg1r4t3g6SO2H0QwfNSl5qCFzwQfeWFrHDRvTdTjSZC/FLTjhiZVhXIKX/GIPvmAO+YaGYAqELzXAFHOi8HEtUZJeiqoKceAMtaPMknz4yaNbqMXK8Ez6hKU+eHk27NGRrBIMXAM1rG1F5aAhXHMUQc/rGLjvg8Ik9XcMIniOrTUXIn1VcHULfCQ90G3RQzeECqNRuhM5DjuNXQkWKLFqxxW8FMagllmwZV1qCrFwV4pe74F1hQtksr5oTxBG87ORPCs1zQtU8QfZMotMjFovyaw7lCg2/9txOVhVpqylCGVzw9ifZTpkccu4tBoLwQYOilZzEGMSTraJU3AkhQHZR/UoelEKVKAYC6BsowrrXZvXqCZZrsXFNGH2BkFCRGotWbPINdlzpqYGaP/fk0P3yInqb7bBuU5Or9hxhQvATF7VIlT3lvSLwfWBEtaEQa+u6EBoOostqRONhG/ZsLYf5ZFCcSzgLVNt68Yfr19FDvucY0VjCNBavmGKbZNlQrQGc/zdxUoVPlSO30AHnwDWE8jVQkYsVQ6yU0TWHDosUiYX88BP7qSOufwJxxzNyw0dsGxHqi0JFMg+I228hr7WbUV1tI9bfh/Z6Mxot1ai2+4gPkUwWlPnkWFwNiXIlF68bKSUPYvyPkK3ISpQF4hdb4PjrnWjdp0fkQiNK9gag+qcmWN+1wEJcOSf5oZ0DQmMJkcnlxMIJBRJb+s4SMSkq8eaaqVd8YvFXkNVQ4vtwyOQKKDURBK9moTJrAN7edti+VMFUqhJaSAWD8A0XWU/Ea2KPZyzmJ7GoEoqp3ga5OLbUdSLrF+S1ZiuqlrfDaHCAqaiE6pYPvpOnEbgntOUhMX8WEfyXkSkinBkqNim4G4GHrBQvJMdrDEKhEejXqslJwwX5apgO1EI7FnswfyJ/8pCV0SECsk8dNhJbFsHUYkLxtKCLuIxcnWdw/KRSbmnFpdYm2A9ZYe3ohqW6BtZGPdSSu8tT4zWxxzOG4VtkpcziO8SSYa66ESk3oTSbK0UR/Zqs8sugezkLKl0lKj+qg44PNybIUnCNwxgWES/TeSOloL8FuVsdqHUOwfQjoW6cCJxVa2G+ZULvlVoS9XDE4KorhDFuxcVOcjXl6ybDuWo7TvYLpQmit/xgsougfF6oGGNVLT7bp53RJWbIfhp2D0Lf9SvoHzNQGzyei/KjtegdMgn7KpKHATh2t2DankcH4WeUKFI+K1SMsQq1vzZBO1W8d5yoWGfGiPk8zu+acIFTP55C3XdN5GJR+viYL+aBsXAPAu/04sq+x3/j2Pk9KNwLNP1PqyDSFOAHABYiUS97sNLAri/IYXNykpcCdv3bBtZAtj12eXs9WzDpNWQpWE+2NbDuu8L7z0SwmX/NI8eCRrxsA/d+B7zsqFDF3u1jd5M6Q/egUJEqUbavdjfbFxGKIhgl+2gorp947f1B1h+ePlJ27Rj3/Y+w14Ryuoi6drO7z34jlL4frv34+Nq3I+zo2NhlyseTO1ak3e4+dqZP5cZGud+u3jPzqGFif8Qd+4XrRip0sHR24+KV6+iddIXSoO5QN7rJtscujrpJV3HNvh5c918k26wonuJOPJIXlSgmq9j96d0dzA0/usi6+JW8casTufwfxO3UoXSNCpFzZhIDSdxNMuxC/XsR6Nvt41flWKAZnf0jicI4ccQ5/7H4JVHd+umHxGshzjHn4jViyXbXw3NX2JLy8VQgeyVZhaPTOqGYAScaG1r4uCzU30dqiqHJFyz9HRfMRwNkDyaT6FRSITtVq0ZYBDGbHJq3qviTf3YUo2qLFnIx4zLLsnnXJZzUvT5G+I8B8leN1SvHHJkY+n0k5lizDpqlQTi7ZVj9ioSB28MgWvYaMfx3SkQvtKP9ZGJp7nUh6weTO3SAEUS5McdlckzdknGe4eSugOxrF5wr3oRWOMnFHE9FNjkLvo4gNmmYIgbfZ2Z0dXsRGg7A6+GuLiqhxzIC1zEnlDpuXDEZBvFoiHzG9PhvJmgHiSSosLqCxDvh4SlXRC5Ij0L51k4Uc1dZHgW05TXQfeuFw+JE1oFHdVSkj9CpPXCQACp4xgGb3Ta+dPnUUGZNifCYYYQvA3rt1JMt08ig/XkPWs1xeH+vhGXf2AC6uOOpXLmayDKEiGAVEyigKalB0esqhE+cxpJ/6YC11APHfhsa61oQLT+K2lVTv30UkQEi8TUaIR5MEcGdXNgIPnwi/krBzxbb/hGMeOrJaw+y/vFAQgpmH7Olwqj/CIld61n3LNMIZ0JszJYebrJtPyGx3G/m+Lm3T7PbczazzTeEcopQyyYR8rV6mPLb4Q5ImTkvR17xG8h7QSimFQbBS8QyvKOHTgJLK897A2+szLRzqkbZz4vhv+DDXIbgIwE3fJt2ovRloSJFqNikQqZB5b5KuI90EcdFKmRQl5RKM8bFJRyfK4NphzQupCy/FKX5mXdOFSV1sHzbiPaLs+yEeuBD+1HAum+G4YPHQMUmIfLXLWj9iQ+NR6dkzs93uE6Ugz6sa6mDTsK+mieDGjWftAIf1sMlYkA6QQSuD2xgfmlF5SzyZ6nYJEUGzZ7PcFTHICL6dpInB9fdr7V9itofLTilJcguhv2sCYoHMXEXwXtxKHb0wF4i1qYlkExskcstMNdxSaLVsCXdo8EQ98Rc14KAxENJ8wcZlKu0UKV1qgVpkS/XQLN8gQptjKUqaF9WiHORl6nFTaMwBWnSte44UX2Y+LWfaBHYvhbm58dSZBgE7H8Dw7nk1JoJHpeS9FhSSEniuefCniIjn6/IjZt9b4qN2PYUSirwfZJpZvDMXraZ6/Pmu0hz2M0nbgpbrrHNXPrUfndGbqEf5wl0/VMoU5E0ETl0sgQl9iWw/ld3IqAUkkn/6qNLaC2fnd87KzJg2XJzc4X/KIuVoaEh4b/HwEtOEgQrVtnJjqWDJpI3ZzdZypyglo0yD5CuN/LeMG5y/SKr1EJKy1gyqQ7q8dSayXAxW0VVRerLYd+0pFIKZd4iiC79jN368JE/UY70sXufRLzGQS3bjIxcbWMbDjSwe4vXs1v3nx73RCjpRTrLJtehptME/fU2mC1mVNc74CKWrvi1fFGZ0hSJIfFp/aeA/l0rms5aofGZYbBPv6WEMnekE9uDMJiVtbD3dMBus8PKDwTq5j6zESWtxIL/DY+vDV3cwOdzGqzbQupOehGkaks70oiN681bvQEbClsQ5CtC8HT7odjyJrTL+QrKPEGhrYLdXIeNKm60UgYZt1IwYDIstviXjSjMdQjny8JEGrHFIuSgKVD0rhbcbBGR3mbYYqX411kkb1IkZqkG+l2V0C0nKnsYgPu35Hf7xzJoxfj6DyMIDc9BnQ98cFi6MJFntDCRRmwvl+LQLjVGQ260241w3ChCzxdNNAtjXhNH4IQD4fImfLhHZKb/LRdKzsz23oY4fEfr0bXQlUaQKGZTQmfuQG+zBbXmJjT9qhJaCe8+pswVBsHjRnS+YEXTuxo8+5XI5wfMgfiXDjQ+Vwfr7OeteGqQroOE8oRhED5vg9HigK2uHMaTPgS4h0o0NMJoMKJrYMztI+1+a0Pn83WwbCFOfiyAtgO+8UlZJYVzHz+QwfoLHZZMm+Plyc8enXaEIYAFzAh77dhWYcwssWz+WHhM1CMR235+Ev3Pvazh2LXEfoc72a3cd9nvZgd/38BP01dAtnGMeBPl5O8reiyUm7rvY7GT3Y2w3ve3skf83CcJ08wlTZnHTSux+dOb7OjVI4l9+mkz6xceX/XNWS4TaX3mM5HmyMK1bDEfbFUV2FD4KsqPTu7jCh034NXctSivsk08oUVs+3lNGN6LL6F2h4Yf02Tuch1WgP51LZQvqrGxwoRDWxL3XMh1VlwZGuLz+saXQ8WSj4Vy7mPzUhN2PrInZj7OHj136IzIi4BQayFKDmvScKtQGE7jAbjuC8Uxvo3APyxD0bQ5RX6A0sYm6Kfe1cw9I672Jv7h301Cr6cwW/GFqTMvz2726PkKFduCRzhh71tw/osafigm7XDTrfu0GJphuu5kePF/vmSSOLlp1MMxBVTal5C14T10c0/ZifvQ+Go1urZ14A+NukQPqXBHxp/+7SK6DU+T1GgHSWp8F0Ogt4t/NtjTQQSB441o7A2BudcP72VSRVyyhNC4Z1Mb4eQeHvGEUO+5gqEr3AzTY7NQ/zPK+GOrh72HlIXHWc2L2aPTCBXbjITh4p7Ztbcehv1OhJ4WsX3lgvFoF9w3hhEO/I6/L0+Xk/Afmf52fBz+MbRzfuCj9Dzx2aPTDBXbjKhQamuCdcdqofyU8EMd6jYVQfvn38ERegMdn9QALcTS2c0wepQ40Dh/MnlCpypQYTCjky+1YN9WUj7FDZA/+dmj082CjdkiF2xwnAtiQLEOZUtHIV8Sh9cjQ1W7BTqxk+/wj4Byw/LFedTkC3WUCUTGbIuVBSq2IFoMQSg3+WD8TR5af21FcTapyy1HtO06rOogHMfcM+fiqfSwVgtpS1RsM3MvAGc4G/ppTy6lJLNAxcYgHo8jcKQQzc/1oMeshZyf/8SNUm8H9GLvPKBio6SBBRqzySCXR3Czm4TXGjU/QBu56oZ/VRHUijiY7xKtKJRMsnDH2SZZsgic1Wvh3nAeVbcciG7aCaY/ROzfDLyggb48kYFBLRslHSxYscUvmrH+lAodHTVQy+LwfVCO5nsaqF+rhGWbOsVbSCLwnfTg2tdutJwJQvNWLTa+UoQyg1Z4PhiFkjoL17JRKPMMOs5GoWQIKjYKJUNQsVEoGYKKjULJEFRsFEqGoGKjUDIEFRuFkiGo2CiUDEHFRqFkCCo2CiVDULFRKBmCio1CyQjA/wP9r4Q3GrJiWAAAAABJRU5ErkJggg==)"
      ],
      "metadata": {
        "id": "irabGq4e9ZDQ"
      }
    },
    {
      "cell_type": "code",
      "source": [
        "import math\n",
        "\n",
        "def custom_function_1(x, n):\n",
        "  y = 1\n",
        "  for i in range(1, n+1):\n",
        "    y = y * ((i + 2) ** x + math.log(x))/(x ** 2 + 4*i)\n",
        "  return y\n",
        "\n",
        "assert round(custom_function_1(2, 3), 3) == 2.707\n",
        "assert round(custom_function_1(3, 2), 3) == 8.277\n",
        "assert round(custom_function_1(3, 3), 3) == 49.7"
      ],
      "metadata": {
        "id": "9rWDNrxyulLx"
      },
      "execution_count": 64,
      "outputs": []
    },
    {
      "cell_type": "markdown",
      "source": [
        "Реализовать класс:"
      ],
      "metadata": {
        "id": "AS9GmWrj9zh7"
      }
    },
    {
      "cell_type": "code",
      "source": [
        "class MyList:\n",
        "    \n",
        "    def __init__(self, x):\n",
        "      self.x = x\n",
        "    \n",
        "    def return_sum(self):\n",
        "      result_sum = 0\n",
        "      for i in range(len(self.x)):\n",
        "        result_sum += self.x[i]\n",
        "      return result_sum\n",
        "    \n",
        "    def make_reverse(self):\n",
        "      reverse_arr = self.x[::-1]\n",
        "      return reverse_arr\n",
        "\n",
        "    \n",
        "    def make_slice(self, start, stop):\n",
        "      slice_arr = self.x[start:stop]\n",
        "      return slice_arr\n",
        "        \n",
        "a = MyList([1, 2, 3, 4])\n",
        "assert a.return_sum() == 10\n",
        "assert a.make_reverse() == [4, 3, 2, 1]\n",
        "assert a.make_slice(0, 2) == [1, 2]\n",
        "\n",
        "b = MyList([5, 6, 6, 5])\n",
        "assert b.return_sum() == 22\n",
        "assert b.make_reverse() == [5, 6, 6, 5]\n",
        "assert b.make_slice(1, 2) == [6]"
      ],
      "metadata": {
        "id": "XpUiXQxEuXkZ"
      },
      "execution_count": 81,
      "outputs": []
    }
  ]
}